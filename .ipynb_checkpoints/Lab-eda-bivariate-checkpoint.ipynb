{
 "cells": [
  {
   "cell_type": "code",
   "execution_count": null,
   "id": "c5f029c9",
   "metadata": {},
   "outputs": [],
   "source": [
    "import pandas as pd\n",
    "import seaborn as sns\n",
    "import numpy as np\n",
    "import matplotlib.pyplot as plt"
   ]
  },
  {
   "cell_type": "code",
   "execution_count": null,
   "id": "181c21d6",
   "metadata": {},
   "outputs": [],
   "source": [
    "df=pd.read_csv('/Users/f/Documents/Ironhack/lab-eda-univariate/amz_uk_price_prediction_dataset.csv')"
   ]
  },
  {
   "cell_type": "code",
   "execution_count": null,
   "id": "7a3ae152",
   "metadata": {},
   "outputs": [],
   "source": [
    "df"
   ]
  },
  {
   "cell_type": "code",
   "execution_count": null,
   "id": "437976a6",
   "metadata": {},
   "outputs": [],
   "source": [
    "#Create a crosstab between the product `category` and the `isBestSeller` status.\n",
    "crosstab_result = pd.crosstab(df['category'], df['isBestSeller'])\n",
    "crosstab_result"
   ]
  },
  {
   "cell_type": "code",
   "execution_count": null,
   "id": "2531c640",
   "metadata": {},
   "outputs": [],
   "source": [
    "# Calculate the proportion of best-sellers for each category\n",
    "crosstab_result_sorted = pd.DataFrame(crosstab_result)\n",
    "crosstab_result_sorted['proportion_best_seller'] = (crosstab_result_sorted[True] / crosstab_result_sorted.sum(axis=1)) * 100\n",
    "\n",
    "# Sort the categories based on the proportion of best-sellers in descending order\n",
    "crosstab_result_sorted = crosstab_result_sorted.sort_values(by='proportion_best_seller', ascending=False)\n",
    "\n",
    "# Display the sorted crosstab table\n",
    "crosstab_result_sorted\n"
   ]
  },
  {
   "cell_type": "code",
   "execution_count": null,
   "id": "b4898f6f",
   "metadata": {},
   "outputs": [],
   "source": [
    "# Conduct a Chi-square test to determine if the best-seller distribution is independent of the product category.\n",
    "from scipy.stats import chi2_contingency\n",
    "chi2_statistic, chi2_p_value, _, _ = chi2_contingency(crosstab_result)\n",
    "\n",
    "chi2_statistic, chi2_p_value\n",
    "\n",
    "# p-value of 0.0 indicates that there is assosiation between the two categories. \n",
    "# Given the extremely low p-value, we reject the null hypothesis. \n",
    "# This implies that there's a significant association between `proportion_best_seller` and `category` in the dataset.\n"
   ]
  },
  {
   "cell_type": "code",
   "execution_count": null,
   "id": "584deb76",
   "metadata": {},
   "outputs": [],
   "source": [
    "from scipy.stats.contingency import association\n",
    "\n",
    "association(crosstab_result, method=\"cramer\")\n",
    "\n",
    "# Value 0.12 indicates weak association between category and best-seller status\n",
    "# The Cramér's V value of 0.12 suggests a weak association between the two variables. \n",
    "# Though statistically significant, the strength of this relationship is not very strong in practical terms."
   ]
  },
  {
   "cell_type": "code",
   "execution_count": null,
   "id": "49af70d6",
   "metadata": {},
   "outputs": [],
   "source": [
    "# Visualize the relationship between product categories and the best-seller status using a stacked bar chart.\n",
    "# Plotting a stacked bar chart for the 'crosstab_result' data\n",
    "crosstab_result.plot(kind=\"bar\", stacked=True)"
   ]
  },
  {
   "cell_type": "code",
   "execution_count": null,
   "id": "6ac718ad",
   "metadata": {},
   "outputs": [],
   "source": [
    "# Calculate Q1, Q3, and IQR\n",
    "Q1 = df['price'].quantile(0.25)\n",
    "Q3 = df['price'].quantile(0.75)\n",
    "IQR = Q3 - Q1\n",
    "\n",
    "# Define lower and upper bounds\n",
    "lower_bound = Q1 - 1.5 * IQR\n",
    "upper_bound = Q3 + 1.5 * IQR\n",
    "\n",
    "# Remove outliers\n",
    "df_no_outliers = df[(df['price'] >= lower_bound) & (df['price'] <= upper_bound)]\n",
    "df_no_outliers"
   ]
  },
  {
   "cell_type": "code",
   "execution_count": null,
   "id": "36bb0428",
   "metadata": {},
   "outputs": [],
   "source": [
    "# Use a violin plot to visualize the distribution of price across different product categories. Filter out the top 20 categories based on count for better visualization.\n",
    "sns.violinplot(data=df, x='MSZoning', y='SalePrice', palette=\"coolwarm\")"
   ]
  },
  {
   "cell_type": "code",
   "execution_count": null,
   "id": "846f4eea",
   "metadata": {},
   "outputs": [],
   "source": [
    "# Step 1: Calculate the count of products in each category\n",
    "category_counts = df_no_outliers['category'].value_counts()\n",
    "\n",
    "# Step 2: Select the top 20 categories based on count\n",
    "top_20_categories = category_counts.head(20).index\n",
    "\n",
    "# Step 3: Filter the original dataframe to include only the products in these top 20 categories\n",
    "df_no_outliers_top_20_categories = df_no_outliers[df_no_outliers['category'].isin(top_20_categories)]\n",
    "\n",
    "# Step 4: Create a violin plot\n",
    "plt.figure(figsize=(12, 8))\n",
    "sns.violinplot(x='category', y='price', data=df_no_outliers_top_20_categories)\n",
    "plt.title('Distribution of Price Across Top 20 Product Categories')\n",
    "plt.xlabel('Product Category')\n",
    "plt.ylabel('Price')\n",
    "plt.xticks(rotation=45, ha='right')\n",
    "plt.tight_layout()\n",
    "plt.show()\n"
   ]
  },
  {
   "cell_type": "code",
   "execution_count": null,
   "id": "993cf727",
   "metadata": {},
   "outputs": [],
   "source": [
    "# Which product category tends to have the highest median price? Don't filter here by top categories.\n",
    "# Calculate the median price for each product category\n",
    "median_price_by_category = df_no_outliers.groupby('category')['price'].median()\n",
    "\n",
    "# Find the category with the highest median price\n",
    "category_with_highest_median_price = median_price_by_category.idxmax()\n",
    "\n",
    "# Get the highest median price\n",
    "highest_median_price = median_price_by_category.max()\n",
    "\n",
    "print(\"Category with the highest median price:\", category_with_highest_median_price)\n",
    "print(\"Highest median price:\", highest_median_price)\n"
   ]
  },
  {
   "cell_type": "code",
   "execution_count": null,
   "id": "3a1e06da",
   "metadata": {},
   "outputs": [],
   "source": [
    "# Get the top 10 product categories based on count\n",
    "top10_categories = df_no_outliers['category'].value_counts().nlargest(10).index\n",
    "\n",
    "# Filter the DataFrame to include only the top 10 categories\n",
    "df_top10_categories = df_no_outliers[df_no_outliers['category'].isin(top10_categories)]\n",
    "top10_categories"
   ]
  },
  {
   "cell_type": "code",
   "execution_count": null,
   "id": "cde54d3c",
   "metadata": {},
   "outputs": [],
   "source": [
    "# Create a bar chart comparing the average price of products for the top 10 product categories (based on count).\n",
    "plt.figure(figsize=(10, 6))\n",
    "barplot = sns.barplot(data=df_top10_categories, x='category', y='price', palette='coolwarm')\n",
    "plt.xticks(rotation=45, ha='right')  # Rotate x-axis labels and adjust alignment\n",
    "plt.tight_layout()\n",
    "plt.show()"
   ]
  },
  {
   "cell_type": "code",
   "execution_count": null,
   "id": "0b4f9ee6",
   "metadata": {},
   "outputs": [],
   "source": [
    "# Which product category commands the highest average price? Don't filter here by top categories.\n",
    "# Group the data by category and calculate the mean price for each category\n",
    "average_price_by_category = df_no_outliers.groupby('category')['price'].mean()\n",
    "\n",
    "# Find the category with the highest average price\n",
    "category_highest_avg_price = average_price_by_category.idxmax()\n",
    "\n",
    "# Retrieve the highest average price\n",
    "highest_avg_price = average_price_by_category.max()\n",
    "\n",
    "print(f\"The product category '{category_highest_avg_price}' commands the highest average price of ${highest_avg_price:.2f}.\")\n"
   ]
  },
  {
   "cell_type": "code",
   "execution_count": null,
   "id": "64e28016",
   "metadata": {},
   "outputs": [],
   "source": [
    "# Filter the dataframe to include only the top 10 categories based on count\n",
    "top10_categories = df_no_outliers['category'].value_counts().nlargest(10).index\n",
    "df_top10 = df_no_outliers[df_no_outliers['category'].isin(top10_categories)]\n",
    "\n",
    "# Create side-by-side box plots\n",
    "plt.figure(figsize=(12, 8))\n",
    "sns.boxplot(data=df_top10, x='category', y='stars')\n",
    "plt.title('Distribution of Product Ratings by Category (Top 10)')\n",
    "plt.xlabel('Category')\n",
    "plt.ylabel('Rating')\n",
    "plt.xticks(rotation=45, ha='right')  # Rotate x-axis labels for better readability\n",
    "plt.tight_layout()\n",
    "plt.show()"
   ]
  },
  {
   "cell_type": "code",
   "execution_count": null,
   "id": "3d4dae7a",
   "metadata": {},
   "outputs": [],
   "source": [
    "# Which category tends to receive the highest median rating from customers? Don't filter here by top categories.\n",
    "# Calculate the median rating for each category\n",
    "median_ratings = df_no_outliers.groupby('category')['stars'].median()\n",
    "\n",
    "# Find the category with the highest median rating\n",
    "highest_median_category = median_ratings.idxmax()\n",
    "\n",
    "# Print the category with the highest median rating\n",
    "print(\"Category with the highest median rating:\", highest_median_category)\n"
   ]
  },
  {
   "cell_type": "code",
   "execution_count": null,
   "id": "39532348",
   "metadata": {},
   "outputs": [],
   "source": [
    "# Correlation Coefficients:\n",
    "# Calculate the correlation coefficient between price and stars\n",
    "correlation_coefficient = df_no_outliers['price'].corr(df_no_outliers['stars'])\n",
    "\n",
    "# Print the correlation coefficient\n",
    "print(\"Correlation coefficient between price and stars:\", correlation_coefficient)"
   ]
  },
  {
   "cell_type": "code",
   "execution_count": null,
   "id": "546d6524",
   "metadata": {},
   "outputs": [],
   "source": [
    "from scipy.stats import pearsonr\n",
    "\n",
    "# Calculate the correlation coefficient and p-value\n",
    "correlation_coefficient, p_value = pearsonr(df_no_outliers['price'], df_no_outliers['stars'])\n",
    "correlation_coefficient, p_value\n",
    "#There is a significant correlation between product price and its rating."
   ]
  },
  {
   "cell_type": "code",
   "execution_count": null,
   "id": "0b73b421",
   "metadata": {},
   "outputs": [],
   "source": [
    "# Use a scatter plot to visualize the relationship between product rating and price. What patterns can you observe?\n",
    "# Scatter plot\n",
    "plt.figure(figsize=(8, 6))\n",
    "plt.scatter(df_no_outliers['stars'], df_no_outliers['price'], alpha=0.5)\n",
    "plt.title('Product Rating vs. Price')\n",
    "plt.xlabel('Product Rating (Stars)')\n",
    "plt.ylabel('Price')\n",
    "plt.grid(True)\n",
    "plt.show()"
   ]
  },
  {
   "cell_type": "code",
   "execution_count": null,
   "id": "9cb39477",
   "metadata": {},
   "outputs": [],
   "source": [
    "#Use a correlation heatmap to visualize correlations between all numerical variables.\n",
    "#Checking for numerical variables\n",
    "df_no_outliers.select_dtypes(\"number\").nunique().sort_values(ascending=False)"
   ]
  },
  {
   "cell_type": "code",
   "execution_count": null,
   "id": "9cf183a0",
   "metadata": {},
   "outputs": [],
   "source": [
    "df_no_outliers['stars'].unique()\n",
    "# The result indicates that rating is not a continuous  variable"
   ]
  },
  {
   "cell_type": "code",
   "execution_count": null,
   "id": "fe7d2970",
   "metadata": {},
   "outputs": [],
   "source": [
    "numerical = df_no_outliers.select_dtypes(\"number\").drop([ 'uid'], axis=1)\n",
    "numerical "
   ]
  },
  {
   "cell_type": "code",
   "execution_count": null,
   "id": "ced7612f",
   "metadata": {},
   "outputs": [],
   "source": [
    "correlation_matrix = numerical.corr()\n",
    "\n",
    "plt.figure(figsize=(5, 5))\n",
    "\n",
    "sns.heatmap(correlation_matrix, annot=True, cmap=\"coolwarm\")\n",
    "\n",
    "plt.title(\"Correlation Heatmap for Selected Numerical Variables\")\n",
    "plt.show()\n",
    "\n",
    "# Heatmap indicates that there is not strong corealtion between numerical variables."
   ]
  },
  {
   "cell_type": "code",
   "execution_count": null,
   "id": "f993461a",
   "metadata": {},
   "outputs": [],
   "source": [
    "# Examine if product prices typically follow a normal distribution using a QQ plot. \n",
    "\n",
    "import statsmodels.api as sm\n",
    "\n",
    "sm.qqplot(numerical['price'], line='s')\n",
    "\n",
    "# The distribution of the price do not follow normal distribution"
   ]
  },
  {
   "cell_type": "code",
   "execution_count": null,
   "id": "932c5f60",
   "metadata": {},
   "outputs": [],
   "source": []
  }
 ],
 "metadata": {
  "kernelspec": {
   "display_name": "Python 3 (ipykernel)",
   "language": "python",
   "name": "python3"
  },
  "language_info": {
   "codemirror_mode": {
    "name": "ipython",
    "version": 3
   },
   "file_extension": ".py",
   "mimetype": "text/x-python",
   "name": "python",
   "nbconvert_exporter": "python",
   "pygments_lexer": "ipython3",
   "version": "3.11.7"
  }
 },
 "nbformat": 4,
 "nbformat_minor": 5
}
